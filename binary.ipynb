{
 "cells": [
  {
   "cell_type": "markdown",
   "metadata": {},
   "source": [
    "The SQLite db file - company.db has been loaded to database and dumped all the three tables(clients,transactions and campaigns) as respective CSV files .Below are codes in python that i have used to analyze the data . "
   ]
  },
  {
   "cell_type": "code",
   "execution_count": 1,
   "metadata": {},
   "outputs": [],
   "source": [
    "import pandas as pd\n",
    "import os\n",
    "import  matplotlib.pyplot  as plt\n",
    "import seaborn as sns"
   ]
  },
  {
   "cell_type": "code",
   "execution_count": 2,
   "metadata": {},
   "outputs": [],
   "source": [
    "df_campaigns=pd.read_csv(\"campaigns.csv\")\n",
    "\n",
    "df_clients=pd.read_csv(\"clients.csv\")\n",
    " \n",
    "\n",
    "df_transactions=pd.read_csv(\"transactions.csv\")\n",
    " "
   ]
  },
  {
   "cell_type": "markdown",
   "metadata": {},
   "source": [
    "As per document , company mostly interested in total_spend and total_buy and coupons used for country for making profit ,so will analyze the data on these"
   ]
  },
  {
   "cell_type": "markdown",
   "metadata": {},
   "source": [
    "check on campaign data"
   ]
  },
  {
   "cell_type": "code",
   "execution_count": 14,
   "metadata": {},
   "outputs": [
    {
     "data": {
      "text/html": [
       "<div>\n",
       "<style scoped>\n",
       "    .dataframe tbody tr th:only-of-type {\n",
       "        vertical-align: middle;\n",
       "    }\n",
       "\n",
       "    .dataframe tbody tr th {\n",
       "        vertical-align: top;\n",
       "    }\n",
       "\n",
       "    .dataframe thead th {\n",
       "        text-align: right;\n",
       "    }\n",
       "</style>\n",
       "<table border=\"1\" class=\"dataframe\">\n",
       "  <thead>\n",
       "    <tr style=\"text-align: right;\">\n",
       "      <th></th>\n",
       "      <th>start_date</th>\n",
       "      <th>end_date</th>\n",
       "      <th>total_spend</th>\n",
       "      <th>country</th>\n",
       "    </tr>\n",
       "  </thead>\n",
       "  <tbody>\n",
       "    <tr>\n",
       "      <th>0</th>\n",
       "      <td>2017-01-03</td>\n",
       "      <td>2017-01-04</td>\n",
       "      <td>9935.67</td>\n",
       "      <td>NaN</td>\n",
       "    </tr>\n",
       "    <tr>\n",
       "      <th>1</th>\n",
       "      <td>2017-01-04</td>\n",
       "      <td>2017-01-06</td>\n",
       "      <td>17696.41</td>\n",
       "      <td>id</td>\n",
       "    </tr>\n",
       "    <tr>\n",
       "      <th>2</th>\n",
       "      <td>2017-01-08</td>\n",
       "      <td>2017-01-12</td>\n",
       "      <td>22541.26</td>\n",
       "      <td>in</td>\n",
       "    </tr>\n",
       "    <tr>\n",
       "      <th>3</th>\n",
       "      <td>2017-02-13</td>\n",
       "      <td>2017-02-18</td>\n",
       "      <td>745.89</td>\n",
       "      <td>ng</td>\n",
       "    </tr>\n",
       "    <tr>\n",
       "      <th>4</th>\n",
       "      <td>2017-05-02</td>\n",
       "      <td>2017-05-03</td>\n",
       "      <td>15338.78</td>\n",
       "      <td>id</td>\n",
       "    </tr>\n",
       "  </tbody>\n",
       "</table>\n",
       "</div>"
      ],
      "text/plain": [
       "   start_date    end_date  total_spend country\n",
       "0  2017-01-03  2017-01-04      9935.67     NaN\n",
       "1  2017-01-04  2017-01-06     17696.41      id\n",
       "2  2017-01-08  2017-01-12     22541.26      in\n",
       "3  2017-02-13  2017-02-18       745.89      ng\n",
       "4  2017-05-02  2017-05-03     15338.78      id"
      ]
     },
     "execution_count": 14,
     "metadata": {},
     "output_type": "execute_result"
    }
   ],
   "source": [
    "df_campaigns.head(5)"
   ]
  },
  {
   "cell_type": "markdown",
   "metadata": {},
   "source": [
    "from document NaN represents for global campaigns"
   ]
  },
  {
   "cell_type": "markdown",
   "metadata": {},
   "source": [
    "check the maximum amount spend for campaigns"
   ]
  },
  {
   "cell_type": "code",
   "execution_count": 3,
   "metadata": {},
   "outputs": [
    {
     "data": {
      "text/plain": [
       "29866.08"
      ]
     },
     "execution_count": 3,
     "metadata": {},
     "output_type": "execute_result"
    }
   ],
   "source": [
    "df_campaigns[\"total_spend\"].max()\n"
   ]
  },
  {
   "cell_type": "code",
   "execution_count": 4,
   "metadata": {},
   "outputs": [
    {
     "data": {
      "text/plain": [
       "745.89"
      ]
     },
     "execution_count": 4,
     "metadata": {},
     "output_type": "execute_result"
    }
   ],
   "source": [
    "df_campaigns[\"total_spend\"].min()"
   ]
  },
  {
   "cell_type": "code",
   "execution_count": 5,
   "metadata": {},
   "outputs": [],
   "source": [
    "%matplotlib inline"
   ]
  },
  {
   "cell_type": "code",
   "execution_count": 6,
   "metadata": {},
   "outputs": [
    {
     "data": {
      "image/png": "[encoded data removed]",
      "text/plain": [
       "<Figure size 432x288 with 1 Axes>"
      ]
     },
     "metadata": {
      "needs_background": "light"
     },
     "output_type": "display_data"
    }
   ],
   "source": [
    "ax = sns.scatterplot(x=\"country\", y=\"total_spend\", data=df_campaigns)"
   ]
  },
  {
   "cell_type": "markdown",
   "metadata": {},
   "source": [
    "now to check the number of campaigns conducted for country wise "
   ]
  },
  {
   "cell_type": "code",
   "execution_count": 7,
   "metadata": {},
   "outputs": [
    {
     "data": {
      "text/plain": [
       "<matplotlib.axes._subplots.AxesSubplot at 0x7f8b34b6def0>"
      ]
     },
     "execution_count": 7,
     "metadata": {},
     "output_type": "execute_result"
    },
    {
     "data": {
      "image/png": "[encoded data removed]",
      "text/plain": [
       "<Figure size 432x288 with 1 Axes>"
      ]
     },
     "metadata": {
      "needs_background": "light"
     },
     "output_type": "display_data"
    }
   ],
   "source": [
    "df_campaigns['country'].value_counts().plot.bar()\n"
   ]
  },
  {
   "cell_type": "markdown",
   "metadata": {},
   "source": [
    "from above plot 'id' country has max , then 'br' ,'ng','ru', we will analyze this top four countries on total money spend and total buy during these campigns to gain insight on data , which country performs well on campaigns"
   ]
  },
  {
   "cell_type": "markdown",
   "metadata": {},
   "source": [
    "total amount spend top 4 countries "
   ]
  },
  {
   "cell_type": "code",
   "execution_count": 8,
   "metadata": {},
   "outputs": [
    {
     "data": {
      "text/plain": [
       "184919.92"
      ]
     },
     "execution_count": 8,
     "metadata": {},
     "output_type": "execute_result"
    }
   ],
   "source": [
    "df_campaigns.groupby('country')['total_spend'].sum()['id'] \n"
   ]
  },
  {
   "cell_type": "code",
   "execution_count": 9,
   "metadata": {},
   "outputs": [
    {
     "data": {
      "text/plain": [
       "35351.0"
      ]
     },
     "execution_count": 9,
     "metadata": {},
     "output_type": "execute_result"
    }
   ],
   "source": [
    "df_campaigns.groupby('country')['total_spend'].sum()['ng'] \n"
   ]
  },
  {
   "cell_type": "code",
   "execution_count": 10,
   "metadata": {},
   "outputs": [
    {
     "data": {
      "text/plain": [
       "47229.13"
      ]
     },
     "execution_count": 10,
     "metadata": {},
     "output_type": "execute_result"
    }
   ],
   "source": [
    "df_campaigns.groupby('country')['total_spend'].sum()['br'] \n"
   ]
  },
  {
   "cell_type": "code",
   "execution_count": 11,
   "metadata": {},
   "outputs": [
    {
     "data": {
      "text/plain": [
       "40109.58"
      ]
     },
     "execution_count": 11,
     "metadata": {},
     "output_type": "execute_result"
    }
   ],
   "source": [
    "df_campaigns.groupby('country')['total_spend'].sum()['ru'] \n"
   ]
  },
  {
   "cell_type": "markdown",
   "metadata": {},
   "source": [
    "now lets check on client data"
   ]
  },
  {
   "cell_type": "code",
   "execution_count": 12,
   "metadata": {},
   "outputs": [
    {
     "data": {
      "text/html": [
       "<div>\n",
       "<style scoped>\n",
       "    .dataframe tbody tr th:only-of-type {\n",
       "        vertical-align: middle;\n",
       "    }\n",
       "\n",
       "    .dataframe tbody tr th {\n",
       "        vertical-align: top;\n",
       "    }\n",
       "\n",
       "    .dataframe thead th {\n",
       "        text-align: right;\n",
       "    }\n",
       "</style>\n",
       "<table border=\"1\" class=\"dataframe\">\n",
       "  <thead>\n",
       "    <tr style=\"text-align: right;\">\n",
       "      <th></th>\n",
       "      <th>account</th>\n",
       "      <th>type</th>\n",
       "      <th>residence</th>\n",
       "      <th>date_joined</th>\n",
       "      <th>indication_coupon</th>\n",
       "      <th>first_deposit_amount</th>\n",
       "      <th>first_deposit_date</th>\n",
       "      <th>first_transaction_amount</th>\n",
       "      <th>first_transaction_date</th>\n",
       "      <th>balance_amount</th>\n",
       "    </tr>\n",
       "  </thead>\n",
       "  <tbody>\n",
       "    <tr>\n",
       "      <th>0</th>\n",
       "      <td>5019</td>\n",
       "      <td>type_6</td>\n",
       "      <td>ua</td>\n",
       "      <td>2018-06-18</td>\n",
       "      <td>308</td>\n",
       "      <td>9090.91</td>\n",
       "      <td>2018-06-18</td>\n",
       "      <td>NaN</td>\n",
       "      <td>NaN</td>\n",
       "      <td>9090.91</td>\n",
       "    </tr>\n",
       "    <tr>\n",
       "      <th>1</th>\n",
       "      <td>3655</td>\n",
       "      <td>type_6</td>\n",
       "      <td>ve</td>\n",
       "      <td>2017-09-04</td>\n",
       "      <td>83</td>\n",
       "      <td>9090.91</td>\n",
       "      <td>2017-09-04</td>\n",
       "      <td>0.120000</td>\n",
       "      <td>2017-09-04</td>\n",
       "      <td>-191834.62</td>\n",
       "    </tr>\n",
       "    <tr>\n",
       "      <th>2</th>\n",
       "      <td>2809</td>\n",
       "      <td>type_6</td>\n",
       "      <td>br</td>\n",
       "      <td>2017-01-16</td>\n",
       "      <td>308</td>\n",
       "      <td>9090.91</td>\n",
       "      <td>2017-01-16</td>\n",
       "      <td>0.205556</td>\n",
       "      <td>2017-01-16</td>\n",
       "      <td>-3679886.14</td>\n",
       "    </tr>\n",
       "    <tr>\n",
       "      <th>3</th>\n",
       "      <td>3876</td>\n",
       "      <td>type_6</td>\n",
       "      <td>mm</td>\n",
       "      <td>2017-11-01</td>\n",
       "      <td>232</td>\n",
       "      <td>9090.91</td>\n",
       "      <td>2017-11-01</td>\n",
       "      <td>NaN</td>\n",
       "      <td>NaN</td>\n",
       "      <td>-90909.09</td>\n",
       "    </tr>\n",
       "    <tr>\n",
       "      <th>4</th>\n",
       "      <td>4973</td>\n",
       "      <td>type_6</td>\n",
       "      <td>lk</td>\n",
       "      <td>2018-06-09</td>\n",
       "      <td>308</td>\n",
       "      <td>9090.91</td>\n",
       "      <td>2018-06-09</td>\n",
       "      <td>0.110000</td>\n",
       "      <td>2018-06-11</td>\n",
       "      <td>8974.12</td>\n",
       "    </tr>\n",
       "  </tbody>\n",
       "</table>\n",
       "</div>"
      ],
      "text/plain": [
       "   account    type residence date_joined  indication_coupon  \\\n",
       "0     5019  type_6        ua  2018-06-18                308   \n",
       "1     3655  type_6        ve  2017-09-04                 83   \n",
       "2     2809  type_6        br  2017-01-16                308   \n",
       "3     3876  type_6        mm  2017-11-01                232   \n",
       "4     4973  type_6        lk  2018-06-09                308   \n",
       "\n",
       "   first_deposit_amount first_deposit_date  first_transaction_amount  \\\n",
       "0               9090.91         2018-06-18                       NaN   \n",
       "1               9090.91         2017-09-04                  0.120000   \n",
       "2               9090.91         2017-01-16                  0.205556   \n",
       "3               9090.91         2017-11-01                       NaN   \n",
       "4               9090.91         2018-06-09                  0.110000   \n",
       "\n",
       "  first_transaction_date  balance_amount  \n",
       "0                    NaN         9090.91  \n",
       "1             2017-09-04      -191834.62  \n",
       "2             2017-01-16     -3679886.14  \n",
       "3                    NaN       -90909.09  \n",
       "4             2018-06-11         8974.12  "
      ]
     },
     "execution_count": 12,
     "metadata": {},
     "output_type": "execute_result"
    }
   ],
   "source": [
    "df_clients.head(5)"
   ]
  },
  {
   "cell_type": "markdown",
   "metadata": {},
   "source": [
    "lets check residence of the clients they belong to "
   ]
  },
  {
   "cell_type": "code",
   "execution_count": 27,
   "metadata": {
    "scrolled": true
   },
   "outputs": [
    {
     "data": {
      "text/plain": [
       "<matplotlib.axes._subplots.AxesSubplot at 0x7f8b0c98a7f0>"
      ]
     },
     "execution_count": 27,
     "metadata": {},
     "output_type": "execute_result"
    },
    {
     "data": {
      "image/png": "[encoded data removed]",
      "text/plain": [
       "<Figure size 1440x720 with 1 Axes>"
      ]
     },
     "metadata": {
      "needs_background": "light"
     },
     "output_type": "display_data"
    }
   ],
   "source": [
    "\n",
    "df_clients['residence'].value_counts().plot.bar(figsize=(20,10))"
   ]
  },
  {
   "cell_type": "markdown",
   "metadata": {},
   "source": [
    "from the above plot , id ,br,ng,ru has maximumn number of clients residence , id represents the maximum customer residence"
   ]
  },
  {
   "cell_type": "markdown",
   "metadata": {},
   "source": [
    "check for the type of accounts used for transactions"
   ]
  },
  {
   "cell_type": "code",
   "execution_count": 28,
   "metadata": {},
   "outputs": [
    {
     "data": {
      "text/plain": [
       "<matplotlib.axes._subplots.AxesSubplot at 0x7f8b0c628438>"
      ]
     },
     "execution_count": 28,
     "metadata": {},
     "output_type": "execute_result"
    },
    {
     "data": {
      "image/png": "[encoded data removed]",
      "text/plain": [
       "<Figure size 432x288 with 1 Axes>"
      ]
     },
     "metadata": {
      "needs_background": "light"
     },
     "output_type": "display_data"
    }
   ],
   "source": [
    "df_clients['type'].value_counts().plot.bar()\n"
   ]
  },
  {
   "cell_type": "markdown",
   "metadata": {},
   "source": [
    "so from plot , mostly type-6 and type-1 are used "
   ]
  },
  {
   "cell_type": "markdown",
   "metadata": {},
   "source": [
    "check for the indication_coupon used "
   ]
  },
  {
   "cell_type": "code",
   "execution_count": 29,
   "metadata": {},
   "outputs": [],
   "source": [
    "indication_coupon=df_clients[\"indication_coupon\"].value_counts()\n"
   ]
  },
  {
   "cell_type": "markdown",
   "metadata": {},
   "source": [
    "top 10 indication_coupon used and their counts "
   ]
  },
  {
   "cell_type": "code",
   "execution_count": 30,
   "metadata": {},
   "outputs": [
    {
     "data": {
      "text/plain": [
       "308    4229\n",
       "41       61\n",
       "116      48\n",
       "36       20\n",
       "181      18\n",
       "102      16\n",
       "48       14\n",
       "103      14\n",
       "177      10\n",
       "29       10\n",
       "Name: indication_coupon, dtype: int64"
      ]
     },
     "execution_count": 30,
     "metadata": {},
     "output_type": "execute_result"
    }
   ],
   "source": [
    "indication_coupon.head(10)"
   ]
  },
  {
   "cell_type": "markdown",
   "metadata": {},
   "source": [
    "so from above data , 308 indication_coupon is used maximum times "
   ]
  },
  {
   "cell_type": "markdown",
   "metadata": {},
   "source": [
    "now check the transaction data"
   ]
  },
  {
   "cell_type": "code",
   "execution_count": 31,
   "metadata": {},
   "outputs": [
    {
     "data": {
      "text/html": [
       "<div>\n",
       "<style scoped>\n",
       "    .dataframe tbody tr th:only-of-type {\n",
       "        vertical-align: middle;\n",
       "    }\n",
       "\n",
       "    .dataframe tbody tr th {\n",
       "        vertical-align: top;\n",
       "    }\n",
       "\n",
       "    .dataframe thead th {\n",
       "        text-align: right;\n",
       "    }\n",
       "</style>\n",
       "<table border=\"1\" class=\"dataframe\">\n",
       "  <thead>\n",
       "    <tr style=\"text-align: right;\">\n",
       "      <th></th>\n",
       "      <th>transaction_date</th>\n",
       "      <th>account</th>\n",
       "      <th>total_buy</th>\n",
       "      <th>total_sell</th>\n",
       "      <th>total_deposits</th>\n",
       "      <th>total_withdrawals</th>\n",
       "      <th>count_contracts</th>\n",
       "      <th>count_deposits</th>\n",
       "      <th>count_withdrawals</th>\n",
       "    </tr>\n",
       "  </thead>\n",
       "  <tbody>\n",
       "    <tr>\n",
       "      <th>0</th>\n",
       "      <td>2018-05-25</td>\n",
       "      <td>1093</td>\n",
       "      <td>NaN</td>\n",
       "      <td>NaN</td>\n",
       "      <td>NaN</td>\n",
       "      <td>3.15</td>\n",
       "      <td>0</td>\n",
       "      <td>0</td>\n",
       "      <td>1</td>\n",
       "    </tr>\n",
       "    <tr>\n",
       "      <th>1</th>\n",
       "      <td>2017-03-18</td>\n",
       "      <td>1093</td>\n",
       "      <td>7.50</td>\n",
       "      <td>6.50</td>\n",
       "      <td>100.0</td>\n",
       "      <td>NaN</td>\n",
       "      <td>72</td>\n",
       "      <td>1</td>\n",
       "      <td>0</td>\n",
       "    </tr>\n",
       "    <tr>\n",
       "      <th>2</th>\n",
       "      <td>2017-03-17</td>\n",
       "      <td>1093</td>\n",
       "      <td>48.63</td>\n",
       "      <td>38.51</td>\n",
       "      <td>1000.0</td>\n",
       "      <td>NaN</td>\n",
       "      <td>93</td>\n",
       "      <td>2</td>\n",
       "      <td>0</td>\n",
       "    </tr>\n",
       "    <tr>\n",
       "      <th>3</th>\n",
       "      <td>2018-12-10</td>\n",
       "      <td>2622</td>\n",
       "      <td>36.29</td>\n",
       "      <td>32.99</td>\n",
       "      <td>NaN</td>\n",
       "      <td>NaN</td>\n",
       "      <td>44</td>\n",
       "      <td>0</td>\n",
       "      <td>0</td>\n",
       "    </tr>\n",
       "    <tr>\n",
       "      <th>4</th>\n",
       "      <td>2018-12-09</td>\n",
       "      <td>2622</td>\n",
       "      <td>101.19</td>\n",
       "      <td>102.56</td>\n",
       "      <td>NaN</td>\n",
       "      <td>NaN</td>\n",
       "      <td>76</td>\n",
       "      <td>0</td>\n",
       "      <td>0</td>\n",
       "    </tr>\n",
       "  </tbody>\n",
       "</table>\n",
       "</div>"
      ],
      "text/plain": [
       "  transaction_date  account  total_buy  total_sell  total_deposits  \\\n",
       "0       2018-05-25     1093        NaN         NaN             NaN   \n",
       "1       2017-03-18     1093       7.50        6.50           100.0   \n",
       "2       2017-03-17     1093      48.63       38.51          1000.0   \n",
       "3       2018-12-10     2622      36.29       32.99             NaN   \n",
       "4       2018-12-09     2622     101.19      102.56             NaN   \n",
       "\n",
       "   total_withdrawals  count_contracts  count_deposits  count_withdrawals  \n",
       "0               3.15                0               0                  1  \n",
       "1                NaN               72               1                  0  \n",
       "2                NaN               93               2                  0  \n",
       "3                NaN               44               0                  0  \n",
       "4                NaN               76               0                  0  "
      ]
     },
     "execution_count": 31,
     "metadata": {},
     "output_type": "execute_result"
    }
   ],
   "source": [
    "df_transactions.head(5)"
   ]
  },
  {
   "cell_type": "markdown",
   "metadata": {},
   "source": [
    "acount is the index to connect to client table, so we can join the table-> clients and transactions"
   ]
  },
  {
   "cell_type": "code",
   "execution_count": 32,
   "metadata": {},
   "outputs": [],
   "source": [
    "df_client_trans=pd.merge(df_clients, df_transactions, on =['account'],how='inner')\n"
   ]
  },
  {
   "cell_type": "markdown",
   "metadata": {},
   "source": [
    "lets check the data after joining two tables "
   ]
  },
  {
   "cell_type": "code",
   "execution_count": 33,
   "metadata": {},
   "outputs": [
    {
     "data": {
      "text/html": [
       "<div>\n",
       "<style scoped>\n",
       "    .dataframe tbody tr th:only-of-type {\n",
       "        vertical-align: middle;\n",
       "    }\n",
       "\n",
       "    .dataframe tbody tr th {\n",
       "        vertical-align: top;\n",
       "    }\n",
       "\n",
       "    .dataframe thead th {\n",
       "        text-align: right;\n",
       "    }\n",
       "</style>\n",
       "<table border=\"1\" class=\"dataframe\">\n",
       "  <thead>\n",
       "    <tr style=\"text-align: right;\">\n",
       "      <th></th>\n",
       "      <th>account</th>\n",
       "      <th>type</th>\n",
       "      <th>residence</th>\n",
       "      <th>date_joined</th>\n",
       "      <th>indication_coupon</th>\n",
       "      <th>first_deposit_amount</th>\n",
       "      <th>first_deposit_date</th>\n",
       "      <th>first_transaction_amount</th>\n",
       "      <th>first_transaction_date</th>\n",
       "      <th>balance_amount</th>\n",
       "      <th>transaction_date</th>\n",
       "      <th>total_buy</th>\n",
       "      <th>total_sell</th>\n",
       "      <th>total_deposits</th>\n",
       "      <th>total_withdrawals</th>\n",
       "      <th>count_contracts</th>\n",
       "      <th>count_deposits</th>\n",
       "      <th>count_withdrawals</th>\n",
       "    </tr>\n",
       "  </thead>\n",
       "  <tbody>\n",
       "    <tr>\n",
       "      <th>0</th>\n",
       "      <td>5019</td>\n",
       "      <td>type_6</td>\n",
       "      <td>ua</td>\n",
       "      <td>2018-06-18</td>\n",
       "      <td>308</td>\n",
       "      <td>9090.91</td>\n",
       "      <td>2018-06-18</td>\n",
       "      <td>NaN</td>\n",
       "      <td>NaN</td>\n",
       "      <td>9090.91</td>\n",
       "      <td>2018-06-18</td>\n",
       "      <td>NaN</td>\n",
       "      <td>NaN</td>\n",
       "      <td>9090.91</td>\n",
       "      <td>NaN</td>\n",
       "      <td>0</td>\n",
       "      <td>1</td>\n",
       "      <td>0</td>\n",
       "    </tr>\n",
       "    <tr>\n",
       "      <th>1</th>\n",
       "      <td>3655</td>\n",
       "      <td>type_6</td>\n",
       "      <td>ve</td>\n",
       "      <td>2017-09-04</td>\n",
       "      <td>83</td>\n",
       "      <td>9090.91</td>\n",
       "      <td>2017-09-04</td>\n",
       "      <td>0.120000</td>\n",
       "      <td>2017-09-04</td>\n",
       "      <td>-191834.62</td>\n",
       "      <td>2017-09-05</td>\n",
       "      <td>1642.89</td>\n",
       "      <td>717.48</td>\n",
       "      <td>NaN</td>\n",
       "      <td>100000.0</td>\n",
       "      <td>11</td>\n",
       "      <td>0</td>\n",
       "      <td>0</td>\n",
       "    </tr>\n",
       "    <tr>\n",
       "      <th>2</th>\n",
       "      <td>3655</td>\n",
       "      <td>type_6</td>\n",
       "      <td>ve</td>\n",
       "      <td>2017-09-04</td>\n",
       "      <td>83</td>\n",
       "      <td>9090.91</td>\n",
       "      <td>2017-09-04</td>\n",
       "      <td>0.120000</td>\n",
       "      <td>2017-09-04</td>\n",
       "      <td>-191834.62</td>\n",
       "      <td>2017-09-04</td>\n",
       "      <td>0.12</td>\n",
       "      <td>NaN</td>\n",
       "      <td>9090.91</td>\n",
       "      <td>100000.0</td>\n",
       "      <td>1</td>\n",
       "      <td>1</td>\n",
       "      <td>0</td>\n",
       "    </tr>\n",
       "    <tr>\n",
       "      <th>3</th>\n",
       "      <td>2809</td>\n",
       "      <td>type_6</td>\n",
       "      <td>br</td>\n",
       "      <td>2017-01-16</td>\n",
       "      <td>308</td>\n",
       "      <td>9090.91</td>\n",
       "      <td>2017-01-16</td>\n",
       "      <td>0.205556</td>\n",
       "      <td>2017-01-16</td>\n",
       "      <td>-3679886.14</td>\n",
       "      <td>2018-11-20</td>\n",
       "      <td>432.53</td>\n",
       "      <td>281.27</td>\n",
       "      <td>NaN</td>\n",
       "      <td>100000.0</td>\n",
       "      <td>84</td>\n",
       "      <td>0</td>\n",
       "      <td>0</td>\n",
       "    </tr>\n",
       "    <tr>\n",
       "      <th>4</th>\n",
       "      <td>2809</td>\n",
       "      <td>type_6</td>\n",
       "      <td>br</td>\n",
       "      <td>2017-01-16</td>\n",
       "      <td>308</td>\n",
       "      <td>9090.91</td>\n",
       "      <td>2017-01-16</td>\n",
       "      <td>0.205556</td>\n",
       "      <td>2017-01-16</td>\n",
       "      <td>-3679886.14</td>\n",
       "      <td>2018-11-19</td>\n",
       "      <td>27.23</td>\n",
       "      <td>16.10</td>\n",
       "      <td>NaN</td>\n",
       "      <td>100000.0</td>\n",
       "      <td>39</td>\n",
       "      <td>0</td>\n",
       "      <td>0</td>\n",
       "    </tr>\n",
       "  </tbody>\n",
       "</table>\n",
       "</div>"
      ],
      "text/plain": [
       "   account    type residence date_joined  indication_coupon  \\\n",
       "0     5019  type_6        ua  2018-06-18                308   \n",
       "1     3655  type_6        ve  2017-09-04                 83   \n",
       "2     3655  type_6        ve  2017-09-04                 83   \n",
       "3     2809  type_6        br  2017-01-16                308   \n",
       "4     2809  type_6        br  2017-01-16                308   \n",
       "\n",
       "   first_deposit_amount first_deposit_date  first_transaction_amount  \\\n",
       "0               9090.91         2018-06-18                       NaN   \n",
       "1               9090.91         2017-09-04                  0.120000   \n",
       "2               9090.91         2017-09-04                  0.120000   \n",
       "3               9090.91         2017-01-16                  0.205556   \n",
       "4               9090.91         2017-01-16                  0.205556   \n",
       "\n",
       "  first_transaction_date  balance_amount transaction_date  total_buy  \\\n",
       "0                    NaN         9090.91       2018-06-18        NaN   \n",
       "1             2017-09-04      -191834.62       2017-09-05    1642.89   \n",
       "2             2017-09-04      -191834.62       2017-09-04       0.12   \n",
       "3             2017-01-16     -3679886.14       2018-11-20     432.53   \n",
       "4             2017-01-16     -3679886.14       2018-11-19      27.23   \n",
       "\n",
       "   total_sell  total_deposits  total_withdrawals  count_contracts  \\\n",
       "0         NaN         9090.91                NaN                0   \n",
       "1      717.48             NaN           100000.0               11   \n",
       "2         NaN         9090.91           100000.0                1   \n",
       "3      281.27             NaN           100000.0               84   \n",
       "4       16.10             NaN           100000.0               39   \n",
       "\n",
       "   count_deposits  count_withdrawals  \n",
       "0               1                  0  \n",
       "1               0                  0  \n",
       "2               1                  0  \n",
       "3               0                  0  \n",
       "4               0                  0  "
      ]
     },
     "execution_count": 33,
     "metadata": {},
     "output_type": "execute_result"
    }
   ],
   "source": [
    "df_client_trans.head(5)\n"
   ]
  },
  {
   "cell_type": "markdown",
   "metadata": {},
   "source": [
    "so now we have the  residence and transaction summery and total buy and sell in same table ,so we can check analyse country wise and make reports "
   ]
  },
  {
   "cell_type": "markdown",
   "metadata": {},
   "source": [
    "here i am assuming , the residence of clients and campaign conducted for the country will be same "
   ]
  },
  {
   "cell_type": "markdown",
   "metadata": {},
   "source": [
    "from the campaigns table i can see two campaigns for country \"id\" over laps , means the starting date is same , so we can combine this two campaigns and get the total spend ,which will be easy to compare with data we have "
   ]
  },
  {
   "cell_type": "code",
   "execution_count": 60,
   "metadata": {},
   "outputs": [],
   "source": [
    "df_campaigns_id=df_campaigns.loc[df_campaigns['country'] ==\"id\" ]\n"
   ]
  },
  {
   "cell_type": "code",
   "execution_count": 61,
   "metadata": {},
   "outputs": [
    {
     "data": {
      "text/html": [
       "<div>\n",
       "<style scoped>\n",
       "    .dataframe tbody tr th:only-of-type {\n",
       "        vertical-align: middle;\n",
       "    }\n",
       "\n",
       "    .dataframe tbody tr th {\n",
       "        vertical-align: top;\n",
       "    }\n",
       "\n",
       "    .dataframe thead th {\n",
       "        text-align: right;\n",
       "    }\n",
       "</style>\n",
       "<table border=\"1\" class=\"dataframe\">\n",
       "  <thead>\n",
       "    <tr style=\"text-align: right;\">\n",
       "      <th></th>\n",
       "      <th>start_date</th>\n",
       "      <th>end_date</th>\n",
       "      <th>total_spend</th>\n",
       "      <th>country</th>\n",
       "    </tr>\n",
       "  </thead>\n",
       "  <tbody>\n",
       "    <tr>\n",
       "      <th>1</th>\n",
       "      <td>2017-01-04</td>\n",
       "      <td>2017-01-06</td>\n",
       "      <td>17696.41</td>\n",
       "      <td>id</td>\n",
       "    </tr>\n",
       "    <tr>\n",
       "      <th>4</th>\n",
       "      <td>2017-05-02</td>\n",
       "      <td>2017-05-03</td>\n",
       "      <td>15338.78</td>\n",
       "      <td>id</td>\n",
       "    </tr>\n",
       "    <tr>\n",
       "      <th>7</th>\n",
       "      <td>2017-06-20</td>\n",
       "      <td>2017-06-20</td>\n",
       "      <td>14269.43</td>\n",
       "      <td>id</td>\n",
       "    </tr>\n",
       "    <tr>\n",
       "      <th>12</th>\n",
       "      <td>2017-07-27</td>\n",
       "      <td>2017-07-30</td>\n",
       "      <td>26143.24</td>\n",
       "      <td>id</td>\n",
       "    </tr>\n",
       "    <tr>\n",
       "      <th>15</th>\n",
       "      <td>2017-09-01</td>\n",
       "      <td>2017-09-05</td>\n",
       "      <td>13731.69</td>\n",
       "      <td>id</td>\n",
       "    </tr>\n",
       "    <tr>\n",
       "      <th>23</th>\n",
       "      <td>2017-11-20</td>\n",
       "      <td>2017-11-22</td>\n",
       "      <td>5491.55</td>\n",
       "      <td>id</td>\n",
       "    </tr>\n",
       "    <tr>\n",
       "      <th>24</th>\n",
       "      <td>2017-11-24</td>\n",
       "      <td>2017-11-26</td>\n",
       "      <td>16456.49</td>\n",
       "      <td>id</td>\n",
       "    </tr>\n",
       "    <tr>\n",
       "      <th>25</th>\n",
       "      <td>2017-11-24</td>\n",
       "      <td>2017-11-28</td>\n",
       "      <td>15020.37</td>\n",
       "      <td>id</td>\n",
       "    </tr>\n",
       "    <tr>\n",
       "      <th>26</th>\n",
       "      <td>2018-01-19</td>\n",
       "      <td>2018-01-22</td>\n",
       "      <td>5533.58</td>\n",
       "      <td>id</td>\n",
       "    </tr>\n",
       "    <tr>\n",
       "      <th>27</th>\n",
       "      <td>2018-01-30</td>\n",
       "      <td>2018-01-31</td>\n",
       "      <td>11466.04</td>\n",
       "      <td>id</td>\n",
       "    </tr>\n",
       "    <tr>\n",
       "      <th>31</th>\n",
       "      <td>2018-03-05</td>\n",
       "      <td>2018-03-07</td>\n",
       "      <td>12906.71</td>\n",
       "      <td>id</td>\n",
       "    </tr>\n",
       "    <tr>\n",
       "      <th>32</th>\n",
       "      <td>2018-03-12</td>\n",
       "      <td>2018-03-15</td>\n",
       "      <td>9192.02</td>\n",
       "      <td>id</td>\n",
       "    </tr>\n",
       "    <tr>\n",
       "      <th>33</th>\n",
       "      <td>2018-04-11</td>\n",
       "      <td>2018-04-13</td>\n",
       "      <td>19928.51</td>\n",
       "      <td>id</td>\n",
       "    </tr>\n",
       "    <tr>\n",
       "      <th>40</th>\n",
       "      <td>2018-10-03</td>\n",
       "      <td>2018-10-04</td>\n",
       "      <td>1745.10</td>\n",
       "      <td>id</td>\n",
       "    </tr>\n",
       "  </tbody>\n",
       "</table>\n",
       "</div>"
      ],
      "text/plain": [
       "    start_date    end_date  total_spend country\n",
       "1   2017-01-04  2017-01-06     17696.41      id\n",
       "4   2017-05-02  2017-05-03     15338.78      id\n",
       "7   2017-06-20  2017-06-20     14269.43      id\n",
       "12  2017-07-27  2017-07-30     26143.24      id\n",
       "15  2017-09-01  2017-09-05     13731.69      id\n",
       "23  2017-11-20  2017-11-22      5491.55      id\n",
       "24  2017-11-24  2017-11-26     16456.49      id\n",
       "25  2017-11-24  2017-11-28     15020.37      id\n",
       "26  2018-01-19  2018-01-22      5533.58      id\n",
       "27  2018-01-30  2018-01-31     11466.04      id\n",
       "31  2018-03-05  2018-03-07     12906.71      id\n",
       "32  2018-03-12  2018-03-15      9192.02      id\n",
       "33  2018-04-11  2018-04-13     19928.51      id\n",
       "40  2018-10-03  2018-10-04      1745.10      id"
      ]
     },
     "execution_count": 61,
     "metadata": {},
     "output_type": "execute_result"
    }
   ],
   "source": [
    "df_campaigns_id"
   ]
  },
  {
   "cell_type": "markdown",
   "metadata": {},
   "source": [
    "from above the number 24th and 25th have same starting data campaigns ,which we can combine together to avoid ambiguity"
   ]
  },
  {
   "cell_type": "code",
   "execution_count": 62,
   "metadata": {},
   "outputs": [],
   "source": [
    "df_campaigns_id=df_campaigns_id.reset_index()\n",
    "df_campaigns_id=df_campaigns_id.drop(['index'],axis=1)"
   ]
  },
  {
   "cell_type": "code",
   "execution_count": 63,
   "metadata": {},
   "outputs": [],
   "source": [
    "#df_campaigns_id"
   ]
  },
  {
   "cell_type": "code",
   "execution_count": 64,
   "metadata": {},
   "outputs": [
    {
     "name": "stderr",
     "output_type": "stream",
     "text": [
      "/home/chandrakantachaudhury/anaconda3/lib/python3.6/site-packages/ipykernel_launcher.py:5: SettingWithCopyWarning: \n",
      "A value is trying to be set on a copy of a slice from a DataFrame\n",
      "\n",
      "See the caveats in the documentation: http://pandas.pydata.org/pandas-docs/stable/indexing.html#indexing-view-versus-copy\n",
      "  \"\"\"\n",
      "/home/chandrakantachaudhury/anaconda3/lib/python3.6/site-packages/ipykernel_launcher.py:6: SettingWithCopyWarning: \n",
      "A value is trying to be set on a copy of a slice from a DataFrame\n",
      "\n",
      "See the caveats in the documentation: http://pandas.pydata.org/pandas-docs/stable/indexing.html#indexing-view-versus-copy\n",
      "  \n"
     ]
    }
   ],
   "source": [
    "for i in range (len(df_campaigns_id)-2):\n",
    "    #print(i)\n",
    "    if df_campaigns_id['start_date'][i]==df_campaigns_id['start_date'][i+1]:\n",
    "        #print(i)\n",
    "        df_campaigns_id['end_date'][i] = df_campaigns_id['end_date'][i+1]\n",
    "        df_campaigns_id['total_spend'][i]=df_campaigns_id['total_spend'][i] + df_campaigns_id['total_spend'][i+1]\n",
    "        df_campaigns_id=df_campaigns_id.drop(df_campaigns_id.index[i+1])\n",
    "        df_campaigns_id=df_campaigns_id.reset_index()\n",
    "        df_campaigns_id=df_campaigns_id.drop(['index'],axis=1)\n",
    "      "
   ]
  },
  {
   "cell_type": "code",
   "execution_count": 65,
   "metadata": {},
   "outputs": [],
   "source": [
    " #"
   ]
  },
  {
   "cell_type": "code",
   "execution_count": 66,
   "metadata": {},
   "outputs": [
    {
     "data": {
      "text/html": [
       "<div>\n",
       "<style scoped>\n",
       "    .dataframe tbody tr th:only-of-type {\n",
       "        vertical-align: middle;\n",
       "    }\n",
       "\n",
       "    .dataframe tbody tr th {\n",
       "        vertical-align: top;\n",
       "    }\n",
       "\n",
       "    .dataframe thead th {\n",
       "        text-align: right;\n",
       "    }\n",
       "</style>\n",
       "<table border=\"1\" class=\"dataframe\">\n",
       "  <thead>\n",
       "    <tr style=\"text-align: right;\">\n",
       "      <th></th>\n",
       "      <th>start_date</th>\n",
       "      <th>end_date</th>\n",
       "      <th>total_spend</th>\n",
       "      <th>country</th>\n",
       "    </tr>\n",
       "  </thead>\n",
       "  <tbody>\n",
       "    <tr>\n",
       "      <th>0</th>\n",
       "      <td>2017-01-04</td>\n",
       "      <td>2017-01-06</td>\n",
       "      <td>17696.41</td>\n",
       "      <td>id</td>\n",
       "    </tr>\n",
       "    <tr>\n",
       "      <th>1</th>\n",
       "      <td>2017-05-02</td>\n",
       "      <td>2017-05-03</td>\n",
       "      <td>15338.78</td>\n",
       "      <td>id</td>\n",
       "    </tr>\n",
       "    <tr>\n",
       "      <th>2</th>\n",
       "      <td>2017-06-20</td>\n",
       "      <td>2017-06-20</td>\n",
       "      <td>14269.43</td>\n",
       "      <td>id</td>\n",
       "    </tr>\n",
       "    <tr>\n",
       "      <th>3</th>\n",
       "      <td>2017-07-27</td>\n",
       "      <td>2017-07-30</td>\n",
       "      <td>26143.24</td>\n",
       "      <td>id</td>\n",
       "    </tr>\n",
       "    <tr>\n",
       "      <th>4</th>\n",
       "      <td>2017-09-01</td>\n",
       "      <td>2017-09-05</td>\n",
       "      <td>13731.69</td>\n",
       "      <td>id</td>\n",
       "    </tr>\n",
       "    <tr>\n",
       "      <th>5</th>\n",
       "      <td>2017-11-20</td>\n",
       "      <td>2017-11-22</td>\n",
       "      <td>5491.55</td>\n",
       "      <td>id</td>\n",
       "    </tr>\n",
       "    <tr>\n",
       "      <th>6</th>\n",
       "      <td>2017-11-24</td>\n",
       "      <td>2017-11-28</td>\n",
       "      <td>31476.86</td>\n",
       "      <td>id</td>\n",
       "    </tr>\n",
       "    <tr>\n",
       "      <th>7</th>\n",
       "      <td>2018-01-19</td>\n",
       "      <td>2018-01-22</td>\n",
       "      <td>5533.58</td>\n",
       "      <td>id</td>\n",
       "    </tr>\n",
       "    <tr>\n",
       "      <th>8</th>\n",
       "      <td>2018-01-30</td>\n",
       "      <td>2018-01-31</td>\n",
       "      <td>11466.04</td>\n",
       "      <td>id</td>\n",
       "    </tr>\n",
       "    <tr>\n",
       "      <th>9</th>\n",
       "      <td>2018-03-05</td>\n",
       "      <td>2018-03-07</td>\n",
       "      <td>12906.71</td>\n",
       "      <td>id</td>\n",
       "    </tr>\n",
       "    <tr>\n",
       "      <th>10</th>\n",
       "      <td>2018-03-12</td>\n",
       "      <td>2018-03-15</td>\n",
       "      <td>9192.02</td>\n",
       "      <td>id</td>\n",
       "    </tr>\n",
       "    <tr>\n",
       "      <th>11</th>\n",
       "      <td>2018-04-11</td>\n",
       "      <td>2018-04-13</td>\n",
       "      <td>19928.51</td>\n",
       "      <td>id</td>\n",
       "    </tr>\n",
       "    <tr>\n",
       "      <th>12</th>\n",
       "      <td>2018-10-03</td>\n",
       "      <td>2018-10-04</td>\n",
       "      <td>1745.10</td>\n",
       "      <td>id</td>\n",
       "    </tr>\n",
       "  </tbody>\n",
       "</table>\n",
       "</div>"
      ],
      "text/plain": [
       "    start_date    end_date  total_spend country\n",
       "0   2017-01-04  2017-01-06     17696.41      id\n",
       "1   2017-05-02  2017-05-03     15338.78      id\n",
       "2   2017-06-20  2017-06-20     14269.43      id\n",
       "3   2017-07-27  2017-07-30     26143.24      id\n",
       "4   2017-09-01  2017-09-05     13731.69      id\n",
       "5   2017-11-20  2017-11-22      5491.55      id\n",
       "6   2017-11-24  2017-11-28     31476.86      id\n",
       "7   2018-01-19  2018-01-22      5533.58      id\n",
       "8   2018-01-30  2018-01-31     11466.04      id\n",
       "9   2018-03-05  2018-03-07     12906.71      id\n",
       "10  2018-03-12  2018-03-15      9192.02      id\n",
       "11  2018-04-11  2018-04-13     19928.51      id\n",
       "12  2018-10-03  2018-10-04      1745.10      id"
      ]
     },
     "execution_count": 66,
     "metadata": {},
     "output_type": "execute_result"
    }
   ],
   "source": [
    "df_campaigns_id"
   ]
  },
  {
   "cell_type": "markdown",
   "metadata": {},
   "source": [
    "so now the campaigns data is fine for country \"id\""
   ]
  },
  {
   "cell_type": "markdown",
   "metadata": {},
   "source": [
    "so now we can extract all required data for country \"id\" from client-transactions table  "
   ]
  },
  {
   "cell_type": "code",
   "execution_count": 67,
   "metadata": {},
   "outputs": [],
   "source": [
    "df_test_id=df_client_trans.loc[df_client_trans['residence'] ==\"id\" ]"
   ]
  },
  {
   "cell_type": "code",
   "execution_count": 68,
   "metadata": {},
   "outputs": [
    {
     "name": "stdout",
     "output_type": "stream",
     "text": [
      "2017-01-04   2017-01-06   1426.5   1135.7   54 type_6    6\n",
      "type_1    2\n",
      "Name: type, dtype: int64\n",
      "2017-05-02   2017-05-03   103699.68999999999   78543.92999999998   10334 type_6    19\n",
      "type_1    12\n",
      "Name: type, dtype: int64\n",
      "2017-06-20   2017-06-20   12124.8   5462.650000000001   689 type_6    6\n",
      "type_1    2\n",
      "Name: type, dtype: int64\n",
      "2017-07-27   2017-07-30   229420.44999999995   174151.21999999997   10510 type_6    67\n",
      "type_1    20\n",
      "Name: type, dtype: int64\n",
      "2017-09-01   2017-09-05   523279.94000000006   408732.32999999996   11558 type_6    74\n",
      "type_1    36\n",
      "Name: type, dtype: int64\n",
      "2017-11-20   2017-11-22   307850.18   240802.23   18017 type_6    63\n",
      "type_1    12\n",
      "Name: type, dtype: int64\n",
      "2017-11-24   2017-11-28   384651.7   294318.64   23685 type_6    108\n",
      "type_1     28\n",
      "Name: type, dtype: int64\n",
      "2018-01-19   2018-01-22   311620.18   252865.05   6130 type_6    72\n",
      "type_1    22\n",
      "Name: type, dtype: int64\n",
      "2018-01-30   2018-01-31   255082.71   199387.61   4167 type_6    33\n",
      "type_1    21\n",
      "Name: type, dtype: int64\n",
      "2018-03-05   2018-03-07   231675.53000000003   178235.27   7642 type_6    52\n",
      "type_1    18\n",
      "Name: type, dtype: int64\n",
      "2018-03-12   2018-03-15   528492.57   422144.2   9684 type_6    95\n",
      "type_1    25\n",
      "Name: type, dtype: int64\n",
      "2018-04-11   2018-04-13   161245.19   121779.60000000003   5052 type_6    59\n",
      "type_1    30\n",
      "Name: type, dtype: int64\n",
      "2018-10-03   2018-10-04   196755.07   145537.21000000002   10563 type_6    47\n",
      "type_1    23\n",
      "Name: type, dtype: int64\n"
     ]
    }
   ],
   "source": [
    "for i in range(len(df_campaigns_id)):\n",
    "    #print(i)\n",
    "    start_date=df_campaigns_id['start_date'][i]\n",
    "    end_date=df_campaigns_id['end_date'][i]\n",
    "    df_campaign_counter=df_test_id.loc[(df_test_id['transaction_date'] >= start_date) & (df_test_id['transaction_date'] <= end_date)]\n",
    "    total_buy=df_campaign_counter['total_buy'].sum()\n",
    "    total_sell=df_campaign_counter['total_sell'].sum()\n",
    "    count_contracts=df_campaign_counter['count_contracts'].sum()\n",
    "    print(start_date ,\" \", end_date,\" \", total_buy,\" \",total_sell,\" \", count_contracts,df_campaign_counter.type.value_counts())\n",
    "    del start_date,end_date,total_buy,total_sell,count_contracts,df_campaign_counter\n"
   ]
  },
  {
   "cell_type": "markdown",
   "metadata": {},
   "source": [
    "##the above data which we got represnts  start date ,end date,total buy ,total sell ,count contracts and account type\n",
    "\n",
    "#and i have copied them to csv file along with respective campaigns data for id , the report i will share once i have done for other 3 countries, ng,br,ru"
   ]
  },
  {
   "cell_type": "code",
   "execution_count": 71,
   "metadata": {},
   "outputs": [],
   "source": [
    "#so lets analyse campaigns for br\n",
    "#first get the client_transaction data filtered out and then compare with campaign data"
   ]
  },
  {
   "cell_type": "code",
   "execution_count": 72,
   "metadata": {},
   "outputs": [],
   "source": [
    "df_test_br=df_client_trans.loc[df_client_trans['residence'] ==\"br\" ]\n"
   ]
  },
  {
   "cell_type": "code",
   "execution_count": 73,
   "metadata": {},
   "outputs": [],
   "source": [
    "df_campaigns_br=df_campaigns.loc[df_campaigns['country'] ==\"br\" ]\n",
    "df_campaigns_br=df_campaigns_br.reset_index()\n",
    "df_campaigns_br=df_campaigns_br.drop(['index'],axis=1)"
   ]
  },
  {
   "cell_type": "code",
   "execution_count": 74,
   "metadata": {},
   "outputs": [
    {
     "name": "stdout",
     "output_type": "stream",
     "text": [
      "2017-09-10   2017-09-12   2015.48   1506.5900000000001   829 type_1    10\n",
      "type_6     7\n",
      "Name: type, dtype: int64\n",
      "2017-10-02   2017-10-03   394.09   324.9699999999999   222 type_1    6\n",
      "type_6    4\n",
      "Name: type, dtype: int64\n",
      "2018-03-02   2018-03-06   25546.98   19837.600000000002   3400 type_6    17\n",
      "type_1    15\n",
      "Name: type, dtype: int64\n",
      "2018-10-29   2018-11-01   37692.26   28514.28   7429 type_6    15\n",
      "type_1    14\n",
      "Name: type, dtype: int64\n"
     ]
    }
   ],
   "source": [
    "for i in range(len(df_campaigns_br)):\n",
    "    #print(i)\n",
    "    start_date=df_campaigns_br['start_date'][i]\n",
    "    end_date=df_campaigns_br['end_date'][i]\n",
    "    df_campaign_counter=df_test_br.loc[(df_test_br['transaction_date'] >= start_date) & (df_test_br['transaction_date'] <= end_date)]\n",
    "    total_buy=df_campaign_counter['total_buy'].sum()\n",
    "    total_sell=df_campaign_counter['total_sell'].sum()\n",
    "    count_contracts=df_campaign_counter['count_contracts'].sum()\n",
    "    print(start_date ,\" \", end_date,\" \", total_buy,\" \",total_sell,\" \", count_contracts,df_campaign_counter.type.value_counts())\n",
    "    del start_date,end_date,total_buy,total_sell,count_contracts,df_campaign_counter\n"
   ]
  },
  {
   "cell_type": "code",
   "execution_count": 75,
   "metadata": {},
   "outputs": [],
   "source": [
    "#copied above br data to csv file created "
   ]
  },
  {
   "cell_type": "code",
   "execution_count": 76,
   "metadata": {},
   "outputs": [],
   "source": [
    "#so lets analyse campaigns for ng\n"
   ]
  },
  {
   "cell_type": "code",
   "execution_count": 77,
   "metadata": {},
   "outputs": [],
   "source": [
    "df_test_ng=df_client_trans.loc[df_client_trans['residence'] ==\"ng\" ]\n",
    "df_campaigns_ng=df_campaigns.loc[df_campaigns['country'] ==\"ng\" ]\n",
    "df_campaigns_ng=df_campaigns_ng.reset_index()\n",
    "df_campaigns_ng=df_campaigns_ng.drop(['index'],axis=1)"
   ]
  },
  {
   "cell_type": "code",
   "execution_count": 78,
   "metadata": {},
   "outputs": [
    {
     "name": "stdout",
     "output_type": "stream",
     "text": [
      "2017-02-13   2017-02-18   23532.920000000002   17124.54   177 type_6    4\n",
      "Name: type, dtype: int64\n",
      "2017-09-28   2017-09-28   2005.44   1717.37   253 type_1    1\n",
      "type_6    1\n",
      "Name: type, dtype: int64\n",
      "2018-02-01   2018-02-05   4137.219999999999   2602.77   67 type_6    11\n",
      "type_1     1\n",
      "Name: type, dtype: int64\n",
      "2018-06-04   2018-06-08   54720.98   40938.51   1102 type_6    18\n",
      "type_1     1\n",
      "Name: type, dtype: int64\n"
     ]
    }
   ],
   "source": [
    "for i in range(len(df_campaigns_ng)):\n",
    "    #print(i)\n",
    "    start_date=df_campaigns_ng['start_date'][i]\n",
    "    end_date=df_campaigns_ng['end_date'][i]\n",
    "    df_campaign_counter=df_test_ng.loc[(df_test_ng['transaction_date'] >= start_date) & (df_test_ng['transaction_date'] <= end_date)]\n",
    "    total_buy=df_campaign_counter['total_buy'].sum()\n",
    "    total_sell=df_campaign_counter['total_sell'].sum()\n",
    "    count_contracts=df_campaign_counter['count_contracts'].sum()\n",
    "    print(start_date ,\" \", end_date,\" \", total_buy,\" \",total_sell,\" \", count_contracts,df_campaign_counter.type.value_counts())\n",
    "    del start_date,end_date,total_buy,total_sell,count_contracts,df_campaign_counter\n"
   ]
  },
  {
   "cell_type": "markdown",
   "metadata": {},
   "source": [
    "#copied above to csv file"
   ]
  },
  {
   "cell_type": "code",
   "execution_count": 79,
   "metadata": {},
   "outputs": [],
   "source": [
    "#now lets do same for ru"
   ]
  },
  {
   "cell_type": "code",
   "execution_count": 80,
   "metadata": {},
   "outputs": [],
   "source": [
    "df_test_ru=df_client_trans.loc[df_client_trans['residence'] ==\"ru\" ]\n",
    "df_campaigns_ru=df_campaigns.loc[df_campaigns['country'] ==\"ru\" ]\n",
    "df_campaigns_ru=df_campaigns_ru.reset_index()\n",
    "df_campaigns_ru=df_campaigns_ru.drop(['index'],axis=1)"
   ]
  },
  {
   "cell_type": "code",
   "execution_count": 81,
   "metadata": {},
   "outputs": [
    {
     "name": "stdout",
     "output_type": "stream",
     "text": [
      "0\n",
      "2017-05-25   2017-05-28   26565.969999999998   20353.040000000005   1655 type_6    14\n",
      "type_1     7\n",
      "Name: type, dtype: int64\n",
      "1\n",
      "2017-06-26   2017-06-30   8707.560000000001   6684.570000000001   470 type_6    13\n",
      "type_1     4\n",
      "Name: type, dtype: int64\n",
      "2\n",
      "2017-09-09   2017-09-11   2766.95   2076.93   682 type_6    13\n",
      "type_1     3\n",
      "Name: type, dtype: int64\n"
     ]
    }
   ],
   "source": [
    "for i in range(len(df_campaigns_ru)):\n",
    "    print(i)\n",
    "    start_date=df_campaigns_ru['start_date'][i]\n",
    "    end_date=df_campaigns_ru['end_date'][i]\n",
    "    df_campaign_counter=df_test_ru.loc[(df_test_ru['transaction_date'] >= start_date) & (df_test_ru['transaction_date'] <= end_date)]\n",
    "    total_buy=df_campaign_counter['total_buy'].sum()\n",
    "    total_sell=df_campaign_counter['total_sell'].sum()\n",
    "    count_contracts=df_campaign_counter['count_contracts'].sum()\n",
    "    print(start_date ,\" \", end_date,\" \", total_buy,\" \",total_sell,\" \", count_contracts,df_campaign_counter.type.value_counts())\n",
    "    del start_date,end_date,total_buy,total_sell,count_contracts,df_campaign_counter\n"
   ]
  },
  {
   "cell_type": "code",
   "execution_count": 82,
   "metadata": {},
   "outputs": [],
   "source": [
    "## the above 4 countries data is saved in file report_country.csv file in my local , which i will share it "
   ]
  },
  {
   "cell_type": "markdown",
   "metadata": {},
   "source": [
    "so now read the csv file and plot the data we have got each campaigns , lets take start date as x -axis as , the campaigns started in different date so easy to interpret"
   ]
  },
  {
   "cell_type": "code",
   "execution_count": 89,
   "metadata": {},
   "outputs": [
    {
     "data": {
      "image/png": "[encoded data removed]",
      "text/plain": [
       "<Figure size 1440x720 with 1 Axes>"
      ]
     },
     "metadata": {
      "needs_background": "light"
     },
     "output_type": "display_data"
    }
   ],
   "source": [
    "df_plot=pd.read_csv(\"report_country.csv\")\n",
    "fig , ax= plt.subplots(figsize=(20, 10))\n",
    "ax.plot(df_plot.start_date,df_plot.total_spend,'-b', label='total_spend')\n",
    "ax.plot(df_plot.start_date,df_plot.total_buy,'-*r', label='total_buy')\n",
    "ax.set_xlabel(\"start date of campaign\")\n",
    "ax.set_ylabel(\"total _spend / total_buy\")\n",
    "plt.xticks(df_plot.start_date,rotation=90)\n",
    "leg = ax.legend();\n",
    "ax.legend(loc='upper left', frameon=False)\n",
    "plt.show()"
   ]
  },
  {
   "attachments": {},
   "cell_type": "markdown",
   "metadata": {},
   "source": [
    "(from plot first 13 campaigns are for country -id , next 4 campaigns are for \"br\", next 4 for \"ng\",next 3 for \"ru\")\n",
    "so from plot the campaigns on 2017-09-01 and 2018-03-12 , had the maximum buy  both are from country \"id\", whcih seems a good market for campaign,for country \"br\" which starts at 2017-09-10 , the maximum buy is for campaign at 2018-10-29, similarly \"ng\" start at 2017-02-13 , having maximum campaign buy at campaign 2018-06-04,\n",
    "\n",
    "for country \"ru\" , the campaign started at 2017-05-25 and the maximum total buy is at campaign  2017-05-25\n",
    "\n",
    " "
   ]
  },
  {
   "cell_type": "code",
   "execution_count": 90,
   "metadata": {},
   "outputs": [],
   "source": [
    "#so now to check the top indication coupon used for these 4 countries "
   ]
  },
  {
   "cell_type": "code",
   "execution_count": 91,
   "metadata": {},
   "outputs": [
    {
     "data": {
      "text/plain": [
       "308    12506\n",
       "222      461\n",
       "41       429\n",
       "196      205\n",
       "45       169\n",
       "59       119\n",
       "109      117\n",
       "132      114\n",
       "25       107\n",
       "110      106\n",
       "Name: indication_coupon, dtype: int64"
      ]
     },
     "execution_count": 91,
     "metadata": {},
     "output_type": "execute_result"
    }
   ],
   "source": [
    " \n",
    "data_id_indication_coupon=df_test_id[\"indication_coupon\"].value_counts()\n",
    "\n",
    "#get the top indication coupons used \n",
    "data_id_indication_coupon.head(10)"
   ]
  },
  {
   "cell_type": "markdown",
   "metadata": {},
   "source": [
    "it shows for country \"id\"  the 308   indication_coupon used maximum with 12506 times"
   ]
  },
  {
   "cell_type": "code",
   "execution_count": 92,
   "metadata": {},
   "outputs": [
    {
     "data": {
      "text/plain": [
       "308    2571\n",
       "36      281\n",
       "123     182\n",
       "181     130\n",
       "149     106\n",
       "247      76\n",
       "173      71\n",
       "89       56\n",
       "79       46\n",
       "152      34\n",
       "Name: indication_coupon, dtype: int64"
      ]
     },
     "execution_count": 92,
     "metadata": {},
     "output_type": "execute_result"
    }
   ],
   "source": [
    " \n",
    "data_br_indication_coupon=df_test_br[\"indication_coupon\"].value_counts()\n",
    "\n",
    "#get the top indication coupons used and their count\n",
    "data_br_indication_coupon.head(10)"
   ]
  },
  {
   "cell_type": "markdown",
   "metadata": {},
   "source": [
    "it shows same like \"id\" with 308 used max of 2571 times "
   ]
  },
  {
   "cell_type": "code",
   "execution_count": 93,
   "metadata": {},
   "outputs": [
    {
     "data": {
      "text/plain": [
       "308    1508\n",
       "26       30\n",
       "195       9\n",
       "244       1\n",
       "234       1\n",
       "209       1\n",
       "36        1\n",
       "8         1\n",
       "Name: indication_coupon, dtype: int64"
      ]
     },
     "execution_count": 93,
     "metadata": {},
     "output_type": "execute_result"
    }
   ],
   "source": [
    " \n",
    "data_ng_indication_coupon=df_test_ng[\"indication_coupon\"].value_counts()\n",
    "\n",
    "#get the top indication coupons used and their count \n",
    "data_ng_indication_coupon.head(10)"
   ]
  },
  {
   "cell_type": "markdown",
   "metadata": {},
   "source": [
    "it shows same like \"id\" with 308 used max of 1508 times"
   ]
  },
  {
   "cell_type": "code",
   "execution_count": 95,
   "metadata": {},
   "outputs": [
    {
     "data": {
      "text/plain": [
       "308    1955\n",
       "48      366\n",
       "21      295\n",
       "119     293\n",
       "177      98\n",
       "49       59\n",
       "53       56\n",
       "193      55\n",
       "169      49\n",
       "81       43\n",
       "Name: indication_coupon, dtype: int64"
      ]
     },
     "execution_count": 95,
     "metadata": {},
     "output_type": "execute_result"
    }
   ],
   "source": [
    " \n",
    "data_ru_indication_coupon=df_test_ru[\"indication_coupon\"].value_counts()\n",
    "\n",
    "#get the top indication coupons used and their count \n",
    "data_ru_indication_coupon.head(10)"
   ]
  },
  {
   "cell_type": "markdown",
   "metadata": {},
   "source": [
    "\n",
    "it shows same like \"id\" with 308 used max of 1955 times\n",
    "so from above data it looks like the indication_coupon 308 is mostly used during campaigns \n"
   ]
  },
  {
   "cell_type": "code",
   "execution_count": 96,
   "metadata": {},
   "outputs": [],
   "source": [
    "#        SUMMARY"
   ]
  },
  {
   "cell_type": "markdown",
   "metadata": {},
   "source": [
    "from the data -> total spend for country ID  on all campaigns  -> 184,919.92\n",
    "                   total buy during all this campaigns  ->  3,247,324 .51\n",
    "\n",
    "    for country br -> total spend -------> 47229.13\n",
    "                       total buy ------->65648.81\n",
    "     for country ng -> total spend------>35351\n",
    "                        total buy------->84396.56\n",
    "     for country ru---> total spend----->40109.58\n",
    "                        total buy-------->38040\n",
    "        \n",
    "        \n",
    "   so from this , country \"id\"  and then country \"ng\" is more profitable for campaigns ,while country \"ru\" is not good .\n",
    "\n",
    "        \n",
    "        "
   ]
  },
  {
   "cell_type": "code",
   "execution_count": null,
   "metadata": {},
   "outputs": [],
   "source": []
  }
 ],
 "metadata": {
  "kernelspec": {
   "display_name": "Python 3",
   "language": "python",
   "name": "python3"
  },
  "language_info": {
   "codemirror_mode": {
    "name": "ipython",
    "version": 3
   },
   "file_extension": ".py",
   "mimetype": "text/x-python",
   "name": "python",
   "nbconvert_exporter": "python",
   "pygments_lexer": "ipython3",
   "version": "3.6.8"
  }
 },
 "nbformat": 4,
 "nbformat_minor": 2
}
